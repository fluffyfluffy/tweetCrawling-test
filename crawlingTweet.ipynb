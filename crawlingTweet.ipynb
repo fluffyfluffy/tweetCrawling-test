{
 "cells": [
  {
   "cell_type": "markdown",
   "id": "3da2a2c4",
   "metadata": {},
   "source": [
    "## Import Tweepy library"
   ]
  },
  {
   "cell_type": "code",
   "execution_count": 40,
   "id": "2877b7d9",
   "metadata": {},
   "outputs": [],
   "source": [
    "import tweepy\n",
    "from tweepy import Stream\n",
    "from tweepy import OAuthHandler\n",
    "import pandas as pd"
   ]
  },
  {
   "cell_type": "markdown",
   "id": "4ac14de9",
   "metadata": {},
   "source": [
    "## Authorization"
   ]
  },
  {
   "cell_type": "code",
   "execution_count": 13,
   "id": "6dd3b23e",
   "metadata": {},
   "outputs": [],
   "source": [
    "# API key dan Customer key untuk Crawling Twitter \n",
    "access_token=\"1437022853199585283-Tt4Mf8oCM4rdYfiK2Oly1YOnEI1Qzs\"\n",
    "access_token_secret=\"82Pp0fW2iH96hcVNU5JUti0RP7sJ2AGEWheLR7SfAtgia\"\n",
    "consumer_key=\"fgXHARO0hmvM7sICrrmeelDdj\"\n",
    "consumer_key_secret=\"XuE4hvgf10WpSXpD4BGHytyiiGGxpcFUs1JlEOsMahrpGWf13S\"\n",
    "\n",
    "# proses autentifikasi\n",
    "auth = tweepy.OAuthHandler(consumer_key,consumer_key_secret)\n",
    "auth.set_access_token(access_token, access_token_secret)\n",
    "api = tweepy.API(auth)"
   ]
  },
  {
   "cell_type": "markdown",
   "id": "1888727f",
   "metadata": {},
   "source": [
    "## Crawling user's profile information"
   ]
  },
  {
   "cell_type": "code",
   "execution_count": 37,
   "id": "0df18bd8",
   "metadata": {
    "scrolled": true
   },
   "outputs": [
    {
     "name": "stdout",
     "output_type": "stream",
     "text": [
      "User screen name \t: Petra_Gurin\n",
      "User ID \t\t: 1413339084076978179\n",
      "User description \t: \n",
      "penguin from NIJISANJI EN learning to stream!🐧❄️\n",
      "にじさんじEN所属🌈🕒ペンギンのペトラ・グリンです🧡\n",
      "\n",
      "ママ🌸@momoco_haru｜h @me_kkera\n",
      "🎨#PetraArt #ペト絵\n",
      "💌https://t.co/uemGPlYovH\n",
      "User followers count \t: 109508\n",
      "User following count \t: 349\n",
      "User statuses count \t: 5149\n",
      "User URL \t\t: https://t.co/hyt70hw1y7\n"
     ]
    }
   ],
   "source": [
    "# crawling data user menggunakan screen name\n",
    "screen_name = 'Petra_Gurin'\n",
    "user = api.get_user(screen_name=screen_name)\n",
    "\n",
    "# menampilkan data user profile\n",
    "print(\"User screen name \\t: \" + user.screen_name)\n",
    "print(\"User ID \\t\\t: \" + user.id_str)\n",
    "print(\"User description \\t: \\n\" + user.description)\n",
    "print(\"User followers count \\t: \" + str(user.followers_count))\n",
    "print(\"User following count \\t: \" + str(user.friends_count))\n",
    "print(\"User statuses count \\t: \" + str(user.statuses_count))\n",
    "print(\"User URL \\t\\t: \" + user.url)"
   ]
  },
  {
   "cell_type": "markdown",
   "id": "a3c56643",
   "metadata": {},
   "source": [
    "## Crawling user's social network information"
   ]
  },
  {
   "cell_type": "code",
   "execution_count": 36,
   "id": "2cb6f46e",
   "metadata": {},
   "outputs": [
    {
     "name": "stdout",
     "output_type": "stream",
     "text": [
      "User screen name \t: Petra_Gurin\n",
      "User followers \t\t:\n",
      "ChanShun11\n",
      "crazyxboxmanzyt\n",
      "shawn_loui\n",
      "vanddalized\n",
      "owo12221570\n",
      "Chrisgjx2metal\n",
      "haiicyan\n",
      "charmsuVT\n",
      "Nikkeru_ORE\n",
      "arikawaaria\n",
      "ochaocha_mocha\n",
      "squid310019\n",
      "KuregaAP\n",
      "SegaD_Rez\n",
      "Maki89512018\n",
      "COCOA__ViVi_X\n",
      "mimorra118\n",
      "alsto_nico25\n",
      "Moriko39098716\n",
      "verymuchbred\n",
      "HaruSuzumiya1\n",
      "GreySpecter44\n",
      "p_blue_game\n",
      "Axe__a\n",
      "Glennehhhh\n",
      "TOSHlNOUKYOUKO\n",
      "iam_adoryble\n",
      "alicefarron39\n",
      "Not_Tellix\n",
      "Nerronak\n",
      "\n",
      "User following \t\t:\n",
      "magmel_info\n",
      "Oo_oreda\n",
      "Ryugon_D\n",
      "FonziMGM\n",
      "momoshiki\n",
      "Girl_Dm_\n",
      "Nnnoira\n",
      "ms16nr\n",
      "ChibaNyan_Music\n",
      "xiaociiao\n",
      "gahara411\n",
      "Furai_sen\n",
      "666devi_debi999\n",
      "inugoyagonta\n",
      "xxhachisan\n",
      "DECO27\n",
      "tometa_QP\n",
      "soubin\n",
      "ShikiMiyoshino\n",
      "C9Vienna\n",
      "egerik_k_\n",
      "ReimuEndou\n",
      "NinaKosaka\n",
      "EnnaAlouette\n",
      "MillieParfait\n",
      "BUSTAFELLOWS\n",
      "ri_yase\n",
      "azuma_tou\n",
      "MelonbreadFBP\n",
      "walfieee\n"
     ]
    }
   ],
   "source": [
    "# crawling data user menggunakan screen name\n",
    "screen_name = 'Petra_Gurin'\n",
    "user = api.get_user(screen_name=screen_name)\n",
    "\n",
    "#menampilkan screen name dari user\n",
    "print(\"User screen name \\t: \" + user.screen_name)\n",
    "\n",
    "#menampilkan data follower dari user\n",
    "print(\"User followers \\t\\t:\")\n",
    "for follower in tweepy.Cursor(api.get_followers, screen_name=screen_name).items(30):\n",
    "    print(follower.screen_name)\n",
    "    \n",
    "#menampilkan data following dari user\n",
    "print(\"\\nUser following \\t\\t:\")\n",
    "for friend in tweepy.Cursor(api.get_friends, screen_name=screen_name).items(30):\n",
    "    print(friend.screen_name)"
   ]
  },
  {
   "cell_type": "markdown",
   "id": "c5cd926a",
   "metadata": {},
   "source": [
    "## Crawling tweets using a set of specified keywords and a geolocation based criteria"
   ]
  },
  {
   "cell_type": "code",
   "execution_count": 53,
   "id": "5ef53587",
   "metadata": {},
   "outputs": [
    {
     "name": "stdout",
     "output_type": "stream",
     "text": [
      "show the 10 recent tweets : \n",
      "\n",
      "1) Mau dapet uang tambahan tapi hobinya rebahan?\n",
      "Yuk gabung di Sobat IndiHome dan dapatkan uang hingga ratusan ribu rupiah dengan modal hanya smartphone kamu aja loh!\n",
      "\n",
      "Cara joinnya?\n",
      "Simak slide diatas ya!\n",
      "\n",
      "#SobatIndiHome\n",
      "#IndiHomeJabbotabek\n",
      "#AktivitasTanpaBatas\n",
      "#WarriorJaktim https://t.co/2IjzuXT7iL\n",
      "\n",
      "2) Halo Sobat IndiHome!\n",
      "Sudah siap streaming Disney+ Hotstar di IndiHome TV?\n",
      "\n",
      "Yuk simak cara aktivasi melalui layar TV ya!\n",
      "\n",
      "#DisneyxIndiHome\n",
      "#Disney+Hotstar\n",
      "#AktivitasTanpaBatas\n",
      "#IndiHomeJabotabek\n",
      "#WarriorJaktim https://t.co/XkhmJUBrB0\n",
      "\n",
      "3) @IndiHome bapuk banget jaringannya deh. Cape\n",
      "\n",
      "4) @SDarongke @r_soefiyandoro Baru tau jayen kerja di indihome\n",
      "\n",
      "Besok2 tinggal ketok pintu aja nih kalo bermasalah 😁😁\n",
      "\n",
      "5) Ini tolong @IndiHomeCare @IndiHome DOWN MULU SINYAL , STREAMING LEMOT, GAME JADI AFK MULU, INI LAGI DOWNLOAD DARI SORE GAJALAN JALAN, YARABBBBBBBBJWJKFNKRLWLLDIHDJOELKDHSI😭😭😭😭😭😭😭 https://t.co/dLnekskSsE\n",
      "\n",
      "6) @IndiHomeCare halo indihome seperti biasa nih. Boleh tolong di cek?\n",
      "\n",
      "7) Dimana-mana, biasanya provider Internet Indihome doang. Tapi kenapa provider Internet lain kaya harus kaya ngumpulin 10 orang dulu baru masuk areanya mereka?\n",
      "\n",
      "Atau emang sebenernya ada inisiatif kek gitu? Atau malah kebentur peraturan?\n",
      "\n",
      "8) @TelkomIndonesia @IndiHomeCare Halo indihome care, beneran internet gak akan aktif sampe 15 oktober?????\n",
      "\n",
      "9) @IndiHome @IndiHomeCare lemot banget si diwilayah petukangan, ada apa yaah? Kok makin parah aja speed internetnya, mengecewakan\n",
      "\n",
      "10) @IndiHomeCare @IndiHome internetnya ga stabil bgt dr jam 5 sore smp 5x on off tombol modem, udh telp cs jg buat restart dari sistem kalian tp msh ga stabil kalo emg ga bisa ngasih intenret cepet setidaknya saya minta internet yg stabil udh itu aja, saya cape lapor ke kaliannya😌\n",
      "\n"
     ]
    }
   ],
   "source": [
    "# crawling 50 data tweet dari twitter dengan keyword \"Indihome\" di daerah Jakarta (Lan: -6.121435, Long: 106.774124) \n",
    "# dan berbahasa Indonesia\n",
    "posts = api.search_tweets(q=\"Indihome\", count = 50, geocode=\"-6.121435,106.774124,50km\", tweet_mode = \"extended\", lang=\"id\")\n",
    "\n",
    "# tampilkan 10 data teratas\n",
    "print(\"show the 10 recent tweets : \\n\")\n",
    "i = 1\n",
    "for tweet in posts[0:10] :\n",
    "    print(str(i) + ') '+ tweet.full_text + '\\n')\n",
    "    i = i+1\n",
    "\n"
   ]
  },
  {
   "cell_type": "code",
   "execution_count": null,
   "id": "74c1b3d1",
   "metadata": {},
   "outputs": [],
   "source": []
  }
 ],
 "metadata": {
  "kernelspec": {
   "display_name": "Python 3 (ipykernel)",
   "language": "python",
   "name": "python3"
  },
  "language_info": {
   "codemirror_mode": {
    "name": "ipython",
    "version": 3
   },
   "file_extension": ".py",
   "mimetype": "text/x-python",
   "name": "python",
   "nbconvert_exporter": "python",
   "pygments_lexer": "ipython3",
   "version": "3.9.12"
  }
 },
 "nbformat": 4,
 "nbformat_minor": 5
}
